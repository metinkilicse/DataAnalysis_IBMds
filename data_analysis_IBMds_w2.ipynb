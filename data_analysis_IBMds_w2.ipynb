{
 "cells": [
  {
   "cell_type": "code",
   "execution_count": 39,
   "metadata": {},
   "outputs": [],
   "source": [
    "import pandas as pd\n",
    "import numpy as np\n",
    "\n",
    "df = pd.read_csv('car_details_ford_focus.csv')"
   ]
  },
  {
   "cell_type": "code",
   "execution_count": 2,
   "metadata": {},
   "outputs": [],
   "source": [
    "# Data Pre-processing is (also called data cleaning or data wrangling)\n",
    "\n",
    "# Converting or mapping data from inital raw form into another format to prepare the data further analysis.\n",
    "# - Identify and handle missing values\n",
    "# - Data Formatting\n",
    "# - Data Normalization (centering / scaling)\n",
    "# - Data binning\n",
    "# - Turning categorical values to numeric variables"
   ]
  },
  {
   "cell_type": "code",
   "execution_count": 3,
   "metadata": {},
   "outputs": [],
   "source": [
    "# Accessing : df['price']\n",
    "# Modifying (Adds 10000 to every value ): df['price'] = df['price'] + 10000"
   ]
  },
  {
   "cell_type": "code",
   "execution_count": 4,
   "metadata": {},
   "outputs": [],
   "source": [
    "# Missing Values\n",
    "\n",
    "# Could be represented as ?,N/A,0 or just a blank cell\n",
    "# Replacing is better than dropping\n",
    "# Replace it with an average ( of similar datapoints)\n",
    "# if it's categorical then repalce it by frequency\n",
    "# or replace it based on other functions\n",
    "# or just leave it as missing data"
   ]
  },
  {
   "cell_type": "code",
   "execution_count": 49,
   "metadata": {},
   "outputs": [],
   "source": [
    "missing_data = df.isnull()\n",
    "notnull_data = df.notnull()"
   ]
  },
  {
   "cell_type": "code",
   "execution_count": 57,
   "metadata": {},
   "outputs": [],
   "source": [
    "# Dropping\n",
    "df.dropna(subset=[\"price\"], axis=0, inplace=True) # axis 0 for row, 1 for column. inplace->directly modification on dataset.\n",
    "df.reset_index(drop=True, inplace=True) # Reset after dropping"
   ]
  },
  {
   "cell_type": "code",
   "execution_count": 10,
   "metadata": {},
   "outputs": [
    {
     "data": {
      "text/plain": [
       "81.66649576783556"
      ]
     },
     "execution_count": 10,
     "metadata": {},
     "output_type": "execute_result"
    }
   ],
   "source": [
    "# Replacing\n",
    "mean_price = df[\"price\"].mean()\n",
    "mean_price"
   ]
  },
  {
   "cell_type": "code",
   "execution_count": 12,
   "metadata": {},
   "outputs": [
    {
     "data": {
      "text/plain": [
       "0       61.75\n",
       "1       96.95\n",
       "2       86.90\n",
       "3       52.90\n",
       "4       37.90\n",
       "        ...  \n",
       "822     50.50\n",
       "823     41.00\n",
       "824    107.00\n",
       "825     74.00\n",
       "826    118.50\n",
       "Name: price, Length: 827, dtype: float64"
      ]
     },
     "execution_count": 12,
     "metadata": {},
     "output_type": "execute_result"
    }
   ],
   "source": [
    "df[\"price\"].replace(np.nan, mean_price)"
   ]
  },
  {
   "cell_type": "code",
   "execution_count": 27,
   "metadata": {},
   "outputs": [
    {
     "data": {
      "text/plain": [
       "0       61.75\n",
       "1       96.95\n",
       "2       86.90\n",
       "3       52.90\n",
       "4       37.90\n",
       "        ...  \n",
       "822     50.50\n",
       "823     41.00\n",
       "824    107.00\n",
       "825     74.00\n",
       "826    118.50\n",
       "Name: price, Length: 827, dtype: float64"
      ]
     },
     "execution_count": 27,
     "metadata": {},
     "output_type": "execute_result"
    }
   ],
   "source": [
    "# Data Formatting\n",
    "\n",
    "# Non-formatted is confusing, hard to aggregate, and hard to compare\n",
    "# our price is float64. Let's convert it to Int64\n",
    "df[\"price\"]"
   ]
  },
  {
   "cell_type": "code",
   "execution_count": 40,
   "metadata": {},
   "outputs": [
    {
     "data": {
      "text/plain": [
       "0       61750\n",
       "1       96950\n",
       "2       86900\n",
       "3       52900\n",
       "4       37900\n",
       "        ...  \n",
       "822     50500\n",
       "823     41000\n",
       "824    107000\n",
       "825     74000\n",
       "826    118500\n",
       "Name: price, Length: 827, dtype: int32"
      ]
     },
     "execution_count": 40,
     "metadata": {},
     "output_type": "execute_result"
    }
   ],
   "source": [
    "df[\"price\"] = df[\"price\"] * 1000\n",
    "df[\"price\"] = df[\"price\"].astype(\"int\")\n",
    "df[\"price\"]"
   ]
  },
  {
   "cell_type": "code",
   "execution_count": 31,
   "metadata": {},
   "outputs": [],
   "source": [
    "# Data Normalization\n",
    "\n",
    "# Normalize values with different(too big) ranges\n",
    "# Age is 20 and income is 100000 too much. So income can influence more\n",
    "# After normalization : Age : 0.2, income : 0.15. So similar intrinsic influence\n",
    "# Approaches :\n",
    "# - new = old / max -> simple feature scaling = 0<x<1\n",
    "# - new = old - min / max - min -> Min-Max = 0<x<1\n",
    "# - new = old - mean / standartDeviation -> Z-score = -3<x<3 but can be lower or higher"
   ]
  },
  {
   "cell_type": "code",
   "execution_count": 41,
   "metadata": {},
   "outputs": [
    {
     "data": {
      "text/plain": [
       "0     -0.639565\n",
       "1      0.490789\n",
       "2      0.168060\n",
       "3     -0.923759\n",
       "4     -1.405445\n",
       "         ...   \n",
       "822   -1.000829\n",
       "823   -1.305896\n",
       "824    0.813518\n",
       "825   -0.246189\n",
       "826    1.182810\n",
       "Name: price, Length: 827, dtype: float64"
      ]
     },
     "execution_count": 41,
     "metadata": {},
     "output_type": "execute_result"
    }
   ],
   "source": [
    "# Z-score\n",
    "df[\"price\"] = (df[\"price\"] - df[\"price\"].mean()) / df[\"price\"].std()\n",
    "df[\"price\"]"
   ]
  },
  {
   "cell_type": "code",
   "execution_count": 33,
   "metadata": {},
   "outputs": [],
   "source": [
    "# Binning\n",
    "\n",
    "# - Groping of values into bins\n",
    "# - Converts numeric into categorical variables\n",
    "# - Group a set of numerical valeus into a set of bins\n",
    "# - price : 5000 - 25000 = low, 25000 - 55000 = mid, 50000 - 200000 = high\n",
    "# - to have a better representation of price"
   ]
  },
  {
   "cell_type": "code",
   "execution_count": 42,
   "metadata": {},
   "outputs": [
    {
     "data": {
      "text/plain": [
       "array([-1.81969372,  0.04014599,  1.8999857 ,  3.7598254 ])"
      ]
     },
     "execution_count": 42,
     "metadata": {},
     "output_type": "execute_result"
    }
   ],
   "source": [
    "bins = np.linspace(min(df[\"price\"]), max(df[\"price\"]), 4) # We need 3 bins so we need 4 dividers\n",
    "bins"
   ]
  },
  {
   "cell_type": "code",
   "execution_count": 43,
   "metadata": {},
   "outputs": [
    {
     "data": {
      "text/plain": [
       "0         Low\n",
       "1      Medium\n",
       "2      Medium\n",
       "3         Low\n",
       "4         Low\n",
       "        ...  \n",
       "822       Low\n",
       "823       Low\n",
       "824    Medium\n",
       "825       Low\n",
       "826    Medium\n",
       "Name: price-binned, Length: 827, dtype: category\n",
       "Categories (3, object): [Low < Medium < High]"
      ]
     },
     "execution_count": 43,
     "metadata": {},
     "output_type": "execute_result"
    }
   ],
   "source": [
    "group_names = [\"Low\", \"Medium\", \"High\"]\n",
    "# pd.cut for what each value of price belongs to.\n",
    "df[\"price-binned\"] = pd.cut(df[\"price\"], bins, labels=group_names, include_lowest=True)\n",
    "df[\"price-binned\"]"
   ]
  },
  {
   "cell_type": "code",
   "execution_count": 54,
   "metadata": {},
   "outputs": [
    {
     "data": {
      "text/plain": [
       "Low       430\n",
       "Medium    374\n",
       "High       23\n",
       "Name: price-binned, dtype: int64"
      ]
     },
     "execution_count": 54,
     "metadata": {},
     "output_type": "execute_result"
    }
   ],
   "source": [
    "df[\"price-binned\"].value_counts()\n",
    "# to use on missing data\n",
    "#for column in missing_data.columns.values.tolist():\n",
    "#    print(column)\n",
    "#    print (missing_data[column].value_counts())\n",
    "#    print(\"\")   "
   ]
  },
  {
   "cell_type": "code",
   "execution_count": 56,
   "metadata": {},
   "outputs": [
    {
     "data": {
      "text/plain": [
       "'Low'"
      ]
     },
     "execution_count": 56,
     "metadata": {},
     "output_type": "execute_result"
    }
   ],
   "source": [
    "# You can replace NaNs with most used value \n",
    "df[\"price-binned\"].value_counts().idxmax()"
   ]
  },
  {
   "cell_type": "code",
   "execution_count": 62,
   "metadata": {},
   "outputs": [
    {
     "data": {
      "text/plain": [
       "Text(0.5, 1.0, 'Price Bins')"
      ]
     },
     "execution_count": 62,
     "metadata": {},
     "output_type": "execute_result"
    },
    {
     "data": {
      "image/png": "[encoded data removed]",
      "text/plain": [
       "<Figure size 432x288 with 1 Axes>"
      ]
     },
     "metadata": {
      "needs_background": "light"
     },
     "output_type": "display_data"
    }
   ],
   "source": [
    "%matplotlib inline\n",
    "import matplotlib as plt\n",
    "from matplotlib import pyplot\n",
    "\n",
    "a = (0,1,2)\n",
    "\n",
    "plt.pyplot.hist(df[\"price\"], bins=3)\n",
    "\n",
    "plt.pyplot.xlabel(\"price\")\n",
    "plt.pyplot.ylabel(\"count\")\n",
    "plt.pyplot.title(\"Price Bins\")"
   ]
  },
  {
   "cell_type": "code",
   "execution_count": 45,
   "metadata": {},
   "outputs": [],
   "source": [
    "# Categorical Variables\n",
    "\n",
    "# - Most statistical models cannot take in the objects/strings as input\n",
    "# - Called as One-hot encoding"
   ]
  },
  {
   "cell_type": "code",
   "execution_count": 65,
   "metadata": {},
   "outputs": [
    {
     "data": {
      "text/html": [
       "<div>\n",
       "<style scoped>\n",
       "    .dataframe tbody tr th:only-of-type {\n",
       "        vertical-align: middle;\n",
       "    }\n",
       "\n",
       "    .dataframe tbody tr th {\n",
       "        vertical-align: top;\n",
       "    }\n",
       "\n",
       "    .dataframe thead th {\n",
       "        text-align: right;\n",
       "    }\n",
       "</style>\n",
       "<table border=\"1\" class=\"dataframe\">\n",
       "  <thead>\n",
       "    <tr style=\"text-align: right;\">\n",
       "      <th></th>\n",
       "      <th>benzin</th>\n",
       "      <th>benzin &amp; lpg</th>\n",
       "      <th>dizel</th>\n",
       "    </tr>\n",
       "  </thead>\n",
       "  <tbody>\n",
       "    <tr>\n",
       "      <th>0</th>\n",
       "      <td>0</td>\n",
       "      <td>1</td>\n",
       "      <td>0</td>\n",
       "    </tr>\n",
       "    <tr>\n",
       "      <th>1</th>\n",
       "      <td>1</td>\n",
       "      <td>0</td>\n",
       "      <td>0</td>\n",
       "    </tr>\n",
       "    <tr>\n",
       "      <th>2</th>\n",
       "      <td>1</td>\n",
       "      <td>0</td>\n",
       "      <td>0</td>\n",
       "    </tr>\n",
       "    <tr>\n",
       "      <th>3</th>\n",
       "      <td>0</td>\n",
       "      <td>0</td>\n",
       "      <td>1</td>\n",
       "    </tr>\n",
       "    <tr>\n",
       "      <th>4</th>\n",
       "      <td>0</td>\n",
       "      <td>0</td>\n",
       "      <td>1</td>\n",
       "    </tr>\n",
       "  </tbody>\n",
       "</table>\n",
       "</div>"
      ],
      "text/plain": [
       "   benzin  benzin & lpg  dizel\n",
       "0       0             1      0\n",
       "1       1             0      0\n",
       "2       1             0      0\n",
       "3       0             0      1\n",
       "4       0             0      1"
      ]
     },
     "execution_count": 65,
     "metadata": {},
     "output_type": "execute_result"
    }
   ],
   "source": [
    "dummy_features = pd.get_dummies(df['fuel'])\n",
    "dummy_features.head()"
   ]
  },
  {
   "cell_type": "code",
   "execution_count": 66,
   "metadata": {},
   "outputs": [
    {
     "data": {
      "text/html": [
       "<div>\n",
       "<style scoped>\n",
       "    .dataframe tbody tr th:only-of-type {\n",
       "        vertical-align: middle;\n",
       "    }\n",
       "\n",
       "    .dataframe tbody tr th {\n",
       "        vertical-align: top;\n",
       "    }\n",
       "\n",
       "    .dataframe thead th {\n",
       "        text-align: right;\n",
       "    }\n",
       "</style>\n",
       "<table border=\"1\" class=\"dataframe\">\n",
       "  <thead>\n",
       "    <tr style=\"text-align: right;\">\n",
       "      <th></th>\n",
       "      <th>fuel-gas</th>\n",
       "      <th>fuel-lpg</th>\n",
       "      <th>fuel-diesel</th>\n",
       "    </tr>\n",
       "  </thead>\n",
       "  <tbody>\n",
       "    <tr>\n",
       "      <th>0</th>\n",
       "      <td>0</td>\n",
       "      <td>1</td>\n",
       "      <td>0</td>\n",
       "    </tr>\n",
       "    <tr>\n",
       "      <th>1</th>\n",
       "      <td>1</td>\n",
       "      <td>0</td>\n",
       "      <td>0</td>\n",
       "    </tr>\n",
       "    <tr>\n",
       "      <th>2</th>\n",
       "      <td>1</td>\n",
       "      <td>0</td>\n",
       "      <td>0</td>\n",
       "    </tr>\n",
       "    <tr>\n",
       "      <th>3</th>\n",
       "      <td>0</td>\n",
       "      <td>0</td>\n",
       "      <td>1</td>\n",
       "    </tr>\n",
       "    <tr>\n",
       "      <th>4</th>\n",
       "      <td>0</td>\n",
       "      <td>0</td>\n",
       "      <td>1</td>\n",
       "    </tr>\n",
       "  </tbody>\n",
       "</table>\n",
       "</div>"
      ],
      "text/plain": [
       "   fuel-gas  fuel-lpg  fuel-diesel\n",
       "0         0         1            0\n",
       "1         1         0            0\n",
       "2         1         0            0\n",
       "3         0         0            1\n",
       "4         0         0            1"
      ]
     },
     "execution_count": 66,
     "metadata": {},
     "output_type": "execute_result"
    }
   ],
   "source": [
    "dummy_features.rename(columns={'benzin':'fuel-gas','benzin & lpg':'fuel-lpg','dizel':'fuel-diesel'}, inplace=True)\n",
    "dummy_features.head()"
   ]
  },
  {
   "cell_type": "code",
   "execution_count": 67,
   "metadata": {},
   "outputs": [],
   "source": [
    "# merge dummy_features\n",
    "df = pd.concat([df, dummy_features], axis=1)\n",
    "# drop original field fuel\n",
    "df.drop(\"fuel\", axis=1, inplace=True)"
   ]
  },
  {
   "cell_type": "code",
   "execution_count": 68,
   "metadata": {},
   "outputs": [
    {
     "data": {
      "text/plain": [
       "id                 int64\n",
       "date              object\n",
       "brand             object\n",
       "serie             object\n",
       "model             object\n",
       "year               int64\n",
       "transmission      object\n",
       "km               float64\n",
       "type              object\n",
       "hp                 int64\n",
       "cc                 int64\n",
       "traction          object\n",
       "color             object\n",
       "guarantee         object\n",
       "Nation            object\n",
       "from_whome        object\n",
       "change            object\n",
       "status            object\n",
       "price            float64\n",
       "city              object\n",
       "county            object\n",
       "neighborhood      object\n",
       "binned-price    category\n",
       "fuel-gas           uint8\n",
       "fuel-lpg           uint8\n",
       "fuel-diesel        uint8\n",
       "dtype: object"
      ]
     },
     "execution_count": 68,
     "metadata": {},
     "output_type": "execute_result"
    }
   ],
   "source": [
    "# correct object types, maybe km ?\n",
    "df.dtypes"
   ]
  },
  {
   "cell_type": "code",
   "execution_count": 61,
   "metadata": {},
   "outputs": [],
   "source": [
    "df.rename(columns={'price-binned':'binned-price'}, inplace=True)"
   ]
  },
  {
   "cell_type": "code",
   "execution_count": null,
   "metadata": {},
   "outputs": [],
   "source": []
  }
 ],
 "metadata": {
  "kernelspec": {
   "display_name": "Python 3",
   "language": "python",
   "name": "python3"
  },
  "language_info": {
   "codemirror_mode": {
    "name": "ipython",
    "version": 3
   },
   "file_extension": ".py",
   "mimetype": "text/x-python",
   "name": "python",
   "nbconvert_exporter": "python",
   "pygments_lexer": "ipython3",
   "version": "3.7.5"
  }
 },
 "nbformat": 4,
 "nbformat_minor": 4
}
