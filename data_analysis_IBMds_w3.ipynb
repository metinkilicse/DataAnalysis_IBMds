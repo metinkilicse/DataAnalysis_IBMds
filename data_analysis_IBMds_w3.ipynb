{
 "cells": [
  {
   "cell_type": "code",
   "execution_count": 61,
   "metadata": {},
   "outputs": [],
   "source": [
    "import pandas as pd\n",
    "import numpy as np\n",
    "import matplotlib.pyplot as plt\n",
    "import seaborn as sns\n",
    "from scipy import stats\n",
    "\n",
    "df = pd.read_csv('car_details_ford_focus.csv')"
   ]
  },
  {
   "cell_type": "code",
   "execution_count": 24,
   "metadata": {},
   "outputs": [],
   "source": [
    "# Exploratory Data Analysis\n",
    "\n",
    "# Preliminary step in data analysis to :\n",
    "# - Summarize main characteristics of the data\n",
    "# - Gain better understanding of the date set\n",
    "# - Uncover relationships between variables\n",
    "# - Extract important variables\n",
    "\n",
    "# Question\n",
    "\n",
    "# - What are the characteristics that have the most impact on the car price?\n",
    "\n",
    "# Learn\n",
    "\n",
    "# - Descriptive Statistics : Basic features of dataset\n",
    "# - GroupBy\n",
    "# - ANOVA : analysis of Variance\n",
    "# - Correlation\n",
    "# - Correlation - Statistics"
   ]
  },
  {
   "cell_type": "code",
   "execution_count": 25,
   "metadata": {},
   "outputs": [
    {
     "data": {
      "text/html": [
       "<div>\n",
       "<style scoped>\n",
       "    .dataframe tbody tr th:only-of-type {\n",
       "        vertical-align: middle;\n",
       "    }\n",
       "\n",
       "    .dataframe tbody tr th {\n",
       "        vertical-align: top;\n",
       "    }\n",
       "\n",
       "    .dataframe thead th {\n",
       "        text-align: right;\n",
       "    }\n",
       "</style>\n",
       "<table border=\"1\" class=\"dataframe\">\n",
       "  <thead>\n",
       "    <tr style=\"text-align: right;\">\n",
       "      <th></th>\n",
       "      <th>id</th>\n",
       "      <th>year</th>\n",
       "      <th>km</th>\n",
       "      <th>hp</th>\n",
       "      <th>cc</th>\n",
       "      <th>price</th>\n",
       "    </tr>\n",
       "  </thead>\n",
       "  <tbody>\n",
       "    <tr>\n",
       "      <th>count</th>\n",
       "      <td>8.270000e+02</td>\n",
       "      <td>827.000000</td>\n",
       "      <td>827.000000</td>\n",
       "      <td>827.000000</td>\n",
       "      <td>827.000000</td>\n",
       "      <td>827.000000</td>\n",
       "    </tr>\n",
       "    <tr>\n",
       "      <th>mean</th>\n",
       "      <td>7.806542e+08</td>\n",
       "      <td>2011.243047</td>\n",
       "      <td>151.861325</td>\n",
       "      <td>107.729141</td>\n",
       "      <td>1562.443773</td>\n",
       "      <td>81.666496</td>\n",
       "    </tr>\n",
       "    <tr>\n",
       "      <th>std</th>\n",
       "      <td>1.819330e+07</td>\n",
       "      <td>4.954044</td>\n",
       "      <td>74.447653</td>\n",
       "      <td>11.418271</td>\n",
       "      <td>71.577606</td>\n",
       "      <td>31.140675</td>\n",
       "    </tr>\n",
       "    <tr>\n",
       "      <th>min</th>\n",
       "      <td>5.427586e+08</td>\n",
       "      <td>1999.000000</td>\n",
       "      <td>7.800000</td>\n",
       "      <td>88.000000</td>\n",
       "      <td>999.000000</td>\n",
       "      <td>25.000000</td>\n",
       "    </tr>\n",
       "    <tr>\n",
       "      <th>25%</th>\n",
       "      <td>7.841934e+08</td>\n",
       "      <td>2008.000000</td>\n",
       "      <td>93.269000</td>\n",
       "      <td>95.000000</td>\n",
       "      <td>1560.000000</td>\n",
       "      <td>53.500000</td>\n",
       "    </tr>\n",
       "    <tr>\n",
       "      <th>50%</th>\n",
       "      <td>7.845501e+08</td>\n",
       "      <td>2012.000000</td>\n",
       "      <td>147.000000</td>\n",
       "      <td>110.000000</td>\n",
       "      <td>1560.000000</td>\n",
       "      <td>81.000000</td>\n",
       "    </tr>\n",
       "    <tr>\n",
       "      <th>75%</th>\n",
       "      <td>7.848526e+08</td>\n",
       "      <td>2015.000000</td>\n",
       "      <td>195.000000</td>\n",
       "      <td>120.000000</td>\n",
       "      <td>1596.000000</td>\n",
       "      <td>107.000000</td>\n",
       "    </tr>\n",
       "    <tr>\n",
       "      <th>max</th>\n",
       "      <td>7.849938e+08</td>\n",
       "      <td>2019.000000</td>\n",
       "      <td>582.000000</td>\n",
       "      <td>138.000000</td>\n",
       "      <td>2750.000000</td>\n",
       "      <td>198.750000</td>\n",
       "    </tr>\n",
       "  </tbody>\n",
       "</table>\n",
       "</div>"
      ],
      "text/plain": [
       "                 id         year          km          hp           cc  \\\n",
       "count  8.270000e+02   827.000000  827.000000  827.000000   827.000000   \n",
       "mean   7.806542e+08  2011.243047  151.861325  107.729141  1562.443773   \n",
       "std    1.819330e+07     4.954044   74.447653   11.418271    71.577606   \n",
       "min    5.427586e+08  1999.000000    7.800000   88.000000   999.000000   \n",
       "25%    7.841934e+08  2008.000000   93.269000   95.000000  1560.000000   \n",
       "50%    7.845501e+08  2012.000000  147.000000  110.000000  1560.000000   \n",
       "75%    7.848526e+08  2015.000000  195.000000  120.000000  1596.000000   \n",
       "max    7.849938e+08  2019.000000  582.000000  138.000000  2750.000000   \n",
       "\n",
       "            price  \n",
       "count  827.000000  \n",
       "mean    81.666496  \n",
       "std     31.140675  \n",
       "min     25.000000  \n",
       "25%     53.500000  \n",
       "50%     81.000000  \n",
       "75%    107.000000  \n",
       "max    198.750000  "
      ]
     },
     "execution_count": 25,
     "metadata": {},
     "output_type": "execute_result"
    }
   ],
   "source": [
    "# Descriptive Statistics\n",
    "\n",
    "# - Describe basic features of data\n",
    "# - Giving short summaries about sample and measures of the data\n",
    "\n",
    "df.describe() # computes basic statistics for all numerical variables. NaN skipped"
   ]
  },
  {
   "cell_type": "code",
   "execution_count": 26,
   "metadata": {},
   "outputs": [
    {
     "data": {
      "text/plain": [
       "dizel           564\n",
       "benzin & lpg    208\n",
       "benzin           55\n",
       "Name: fuel, dtype: int64"
      ]
     },
     "execution_count": 26,
     "metadata": {},
     "output_type": "execute_result"
    }
   ],
   "source": [
    "df['fuel'].value_counts()"
   ]
  },
  {
   "cell_type": "code",
   "execution_count": 27,
   "metadata": {},
   "outputs": [],
   "source": [
    "# Box plots \n",
    "\n",
    "# to see Median, Upper Quartile(75%), Lower Quartile(25%), data between them is Interquartile range(50%).\n",
    "# Lower and Upper Extrems : 1.5 times 50% above 75% and 1.5 times below 25%.\n",
    "# Outliers : Individual dots that occur outside the upper and lower extremes\n",
    "# Shows the distribution and skewness of the data\n",
    "# Easy to compare between groups"
   ]
  },
  {
   "cell_type": "code",
   "execution_count": 28,
   "metadata": {},
   "outputs": [],
   "source": [
    "# Scatter Plot\n",
    "\n",
    "# Each observation represented as a point\n",
    "# Show the relationship between two variables\n",
    "# - Predictor/independent variables on x-axis (year)\n",
    "# - Target/dependent variables on y-axis (price)\n"
   ]
  },
  {
   "cell_type": "code",
   "execution_count": 29,
   "metadata": {},
   "outputs": [
    {
     "data": {
      "text/plain": [
       "Text(0, 0.5, 'Price')"
      ]
     },
     "execution_count": 29,
     "metadata": {},
     "output_type": "execute_result"
    },
    {
     "data": {
      "image/png": "[encoded data removed]",
      "text/plain": [
       "<Figure size 432x288 with 1 Axes>"
      ]
     },
     "metadata": {
      "needs_background": "light"
     },
     "output_type": "display_data"
    }
   ],
   "source": [
    "%matplotlib inline\n",
    "\n",
    "x = df['year']\n",
    "y = df['price']\n",
    "plt.scatter(x,y)\n",
    "\n",
    "plt.title(\"Scatterplot of Year vs Price\")\n",
    "plt.xlabel(\"Year\")\n",
    "plt.ylabel(\"Price\")\n"
   ]
  },
  {
   "cell_type": "code",
   "execution_count": 30,
   "metadata": {},
   "outputs": [],
   "source": [
    "# GroupBy\n",
    "\n",
    "# can be applied on categorical variables\n",
    "# group data into categories\n",
    "# signle or multiple variables"
   ]
  },
  {
   "cell_type": "code",
   "execution_count": 39,
   "metadata": {},
   "outputs": [
    {
     "data": {
      "text/html": [
       "<div>\n",
       "<style scoped>\n",
       "    .dataframe tbody tr th:only-of-type {\n",
       "        vertical-align: middle;\n",
       "    }\n",
       "\n",
       "    .dataframe tbody tr th {\n",
       "        vertical-align: top;\n",
       "    }\n",
       "\n",
       "    .dataframe thead th {\n",
       "        text-align: right;\n",
       "    }\n",
       "</style>\n",
       "<table border=\"1\" class=\"dataframe\">\n",
       "  <thead>\n",
       "    <tr style=\"text-align: right;\">\n",
       "      <th></th>\n",
       "      <th>transmission</th>\n",
       "      <th>fuel</th>\n",
       "      <th>price</th>\n",
       "    </tr>\n",
       "  </thead>\n",
       "  <tbody>\n",
       "    <tr>\n",
       "      <th>0</th>\n",
       "      <td>manuel</td>\n",
       "      <td>benzin</td>\n",
       "      <td>90.258927</td>\n",
       "    </tr>\n",
       "    <tr>\n",
       "      <th>1</th>\n",
       "      <td>manuel</td>\n",
       "      <td>benzin &amp; lpg</td>\n",
       "      <td>57.484076</td>\n",
       "    </tr>\n",
       "    <tr>\n",
       "      <th>2</th>\n",
       "      <td>manuel</td>\n",
       "      <td>dizel</td>\n",
       "      <td>80.674336</td>\n",
       "    </tr>\n",
       "    <tr>\n",
       "      <th>3</th>\n",
       "      <td>otomatik</td>\n",
       "      <td>benzin &amp; lpg</td>\n",
       "      <td>52.795714</td>\n",
       "    </tr>\n",
       "    <tr>\n",
       "      <th>4</th>\n",
       "      <td>otomatik</td>\n",
       "      <td>dizel</td>\n",
       "      <td>131.677778</td>\n",
       "    </tr>\n",
       "    <tr>\n",
       "      <th>5</th>\n",
       "      <td>yarı otomatik</td>\n",
       "      <td>benzin</td>\n",
       "      <td>104.214286</td>\n",
       "    </tr>\n",
       "    <tr>\n",
       "      <th>6</th>\n",
       "      <td>yarı otomatik</td>\n",
       "      <td>benzin &amp; lpg</td>\n",
       "      <td>94.253125</td>\n",
       "    </tr>\n",
       "    <tr>\n",
       "      <th>7</th>\n",
       "      <td>yarı otomatik</td>\n",
       "      <td>dizel</td>\n",
       "      <td>114.327000</td>\n",
       "    </tr>\n",
       "  </tbody>\n",
       "</table>\n",
       "</div>"
      ],
      "text/plain": [
       "    transmission          fuel       price\n",
       "0         manuel        benzin   90.258927\n",
       "1         manuel  benzin & lpg   57.484076\n",
       "2         manuel         dizel   80.674336\n",
       "3       otomatik  benzin & lpg   52.795714\n",
       "4       otomatik         dizel  131.677778\n",
       "5  yarı otomatik        benzin  104.214286\n",
       "6  yarı otomatik  benzin & lpg   94.253125\n",
       "7  yarı otomatik         dizel  114.327000"
      ]
     },
     "execution_count": 39,
     "metadata": {},
     "output_type": "execute_result"
    }
   ],
   "source": [
    "df_test = df[['transmission', 'fuel', 'price']]\n",
    "df_grp = df_test.groupby(['transmission', 'fuel'], as_index=False).mean()\n",
    "df_grp"
   ]
  },
  {
   "cell_type": "code",
   "execution_count": 41,
   "metadata": {},
   "outputs": [
    {
     "data": {
      "text/html": [
       "<div>\n",
       "<style scoped>\n",
       "    .dataframe tbody tr th:only-of-type {\n",
       "        vertical-align: middle;\n",
       "    }\n",
       "\n",
       "    .dataframe tbody tr th {\n",
       "        vertical-align: top;\n",
       "    }\n",
       "\n",
       "    .dataframe thead tr th {\n",
       "        text-align: left;\n",
       "    }\n",
       "\n",
       "    .dataframe thead tr:last-of-type th {\n",
       "        text-align: right;\n",
       "    }\n",
       "</style>\n",
       "<table border=\"1\" class=\"dataframe\">\n",
       "  <thead>\n",
       "    <tr>\n",
       "      <th></th>\n",
       "      <th colspan=\"3\" halign=\"left\">price</th>\n",
       "    </tr>\n",
       "    <tr>\n",
       "      <th>fuel</th>\n",
       "      <th>benzin</th>\n",
       "      <th>benzin &amp; lpg</th>\n",
       "      <th>dizel</th>\n",
       "    </tr>\n",
       "    <tr>\n",
       "      <th>transmission</th>\n",
       "      <th></th>\n",
       "      <th></th>\n",
       "      <th></th>\n",
       "    </tr>\n",
       "  </thead>\n",
       "  <tbody>\n",
       "    <tr>\n",
       "      <th>manuel</th>\n",
       "      <td>90.258927</td>\n",
       "      <td>57.484076</td>\n",
       "      <td>80.674336</td>\n",
       "    </tr>\n",
       "    <tr>\n",
       "      <th>otomatik</th>\n",
       "      <td>NaN</td>\n",
       "      <td>52.795714</td>\n",
       "      <td>131.677778</td>\n",
       "    </tr>\n",
       "    <tr>\n",
       "      <th>yarı otomatik</th>\n",
       "      <td>104.214286</td>\n",
       "      <td>94.253125</td>\n",
       "      <td>114.327000</td>\n",
       "    </tr>\n",
       "  </tbody>\n",
       "</table>\n",
       "</div>"
      ],
      "text/plain": [
       "                    price                         \n",
       "fuel               benzin benzin & lpg       dizel\n",
       "transmission                                      \n",
       "manuel          90.258927    57.484076   80.674336\n",
       "otomatik              NaN    52.795714  131.677778\n",
       "yarı otomatik  104.214286    94.253125  114.327000"
      ]
     },
     "execution_count": 41,
     "metadata": {},
     "output_type": "execute_result"
    }
   ],
   "source": [
    "# Pivot\n",
    "# One variable displayed along the columns and the other variable dispalyed along the rows\n",
    "df_pivot = df_grp.pivot(index='transmission', columns='fuel')\n",
    "df_pivot"
   ]
  },
  {
   "cell_type": "code",
   "execution_count": 43,
   "metadata": {},
   "outputs": [
    {
     "data": {
      "image/png": "[encoded data removed]",
      "text/plain": [
       "<Figure size 432x288 with 2 Axes>"
      ]
     },
     "metadata": {
      "needs_background": "light"
     },
     "output_type": "display_data"
    }
   ],
   "source": [
    "# Heatmap\n",
    "# Plot target variable over multiple variables\n",
    "plt.pcolor(df_pivot, cmap='RdBu')\n",
    "plt.colorbar()\n",
    "plt.show()"
   ]
  },
  {
   "cell_type": "code",
   "execution_count": 44,
   "metadata": {},
   "outputs": [],
   "source": [
    "# Correlation\n",
    "# Measures to what extent different variables are interdependent.\n",
    "# Lung cancer -> Smoking\n",
    "# Rain -> Umbrella\n",
    "# doesn't imply causation"
   ]
  },
  {
   "cell_type": "code",
   "execution_count": 52,
   "metadata": {},
   "outputs": [
    {
     "data": {
      "text/plain": [
       "(0, 208.2110740722494)"
      ]
     },
     "execution_count": 52,
     "metadata": {},
     "output_type": "execute_result"
    },
    {
     "data": {
      "image/png": "[encoded data removed]",
      "text/plain": [
       "<Figure size 432x288 with 1 Axes>"
      ]
     },
     "metadata": {
      "needs_background": "light"
     },
     "output_type": "display_data"
    }
   ],
   "source": [
    "# Correlation between two features (year - price)\n",
    "# Positive Linear Relationship impact price\n",
    "sns.regplot(x='year', y='price', data=df)\n",
    "plt.ylim(0,)"
   ]
  },
  {
   "cell_type": "code",
   "execution_count": 57,
   "metadata": {},
   "outputs": [
    {
     "data": {
      "text/plain": [
       "(0, 212.20006484359993)"
      ]
     },
     "execution_count": 57,
     "metadata": {},
     "output_type": "execute_result"
    },
    {
     "data": {
      "image/png": "[encoded data removed]",
      "text/plain": [
       "<Figure size 432x288 with 1 Axes>"
      ]
     },
     "metadata": {
      "needs_background": "light"
     },
     "output_type": "display_data"
    }
   ],
   "source": [
    "# Negative Linear Relationship, still impact price\n",
    "sns.regplot(x='km', y='price', data=df)\n",
    "plt.ylim(0,)"
   ]
  },
  {
   "cell_type": "code",
   "execution_count": 82,
   "metadata": {},
   "outputs": [
    {
     "data": {
      "text/plain": [
       "(0, 207.45419426048568)"
      ]
     },
     "execution_count": 82,
     "metadata": {},
     "output_type": "execute_result"
    },
    {
     "data": {
      "image/png": "[encoded data removed]",
      "text/plain": [
       "<Figure size 432x288 with 1 Axes>"
      ]
     },
     "metadata": {
      "needs_background": "light"
     },
     "output_type": "display_data"
    }
   ],
   "source": [
    "# Weak Correlation, curve could be a little less and wouldn't impact price so much\n",
    "sns.regplot(x='hp', y='price', data=df)\n",
    "plt.ylim(0,)"
   ]
  },
  {
   "cell_type": "code",
   "execution_count": 59,
   "metadata": {},
   "outputs": [],
   "source": [
    "# Corelation - Statistics\n",
    "# Pearson Correlation\n",
    "# - Measure the strength of the correlation between two features\n",
    "# -- Correlation coefficient\n",
    "# -- P-value\n",
    "\n",
    "# Correlation Coefficient\n",
    "# - Close to +1 : Large Positive Relationship\n",
    "# - Close to -1 : Large Negative Relationship\n",
    "# - Close to 0 : No relationship\n",
    "\n",
    "# P-value\n",
    "# - p-value < 0.001 Strong certainty in the result\n",
    "# - p-value < 0.05 Moderate certainty in the result\n",
    "# - p-value < 0.1 Weak certainty in the result\n",
    "# - p-value > 0.1 No certainty in the result\n"
   ]
  },
  {
   "cell_type": "code",
   "execution_count": 68,
   "metadata": {},
   "outputs": [
    {
     "name": "stdout",
     "output_type": "stream",
     "text": [
      "Pearson Correlation : 0.8941530265780823\n",
      "P-value : 4.0328263836404793e-290\n"
     ]
    }
   ],
   "source": [
    "pearson_coef, p_value = stats.pearsonr(df['year'], df['price'])\n",
    "print(\"Pearson Correlation : \" + str(pearson_coef))\n",
    "print(\"P-value : \" + str(p_value))"
   ]
  },
  {
   "cell_type": "code",
   "execution_count": 69,
   "metadata": {},
   "outputs": [
    {
     "name": "stdout",
     "output_type": "stream",
     "text": [
      "Pearson Correlation : -0.7761427203308013\n",
      "P-value : 2.1185578025950324e-167\n"
     ]
    }
   ],
   "source": [
    "pearson_coef, p_value = stats.pearsonr(df['km'], df['price'])\n",
    "print(\"Pearson Correlation : \" + str(pearson_coef))\n",
    "print(\"P-value : \" + str(p_value))"
   ]
  },
  {
   "cell_type": "code",
   "execution_count": 72,
   "metadata": {},
   "outputs": [
    {
     "name": "stdout",
     "output_type": "stream",
     "text": [
      "Pearson Correlation : 0.38723924947486965\n",
      "P-value : 5.592760631473971e-31\n"
     ]
    }
   ],
   "source": [
    "pearson_coef, p_value = stats.pearsonr(df['hp'], df['price'])\n",
    "print(\"Pearson Correlation : \" + str(pearson_coef))\n",
    "print(\"P-value : \" + str(p_value))"
   ]
  },
  {
   "cell_type": "code",
   "execution_count": 73,
   "metadata": {},
   "outputs": [
    {
     "data": {
      "text/plain": [
       "<matplotlib.axes._subplots.AxesSubplot at 0x20b936bc0c8>"
      ]
     },
     "execution_count": 73,
     "metadata": {},
     "output_type": "execute_result"
    },
    {
     "data": {
      "image/png": "[encoded data removed]",
      "text/plain": [
       "<Figure size 432x288 with 2 Axes>"
      ]
     },
     "metadata": {
      "needs_background": "light"
     },
     "output_type": "display_data"
    }
   ],
   "source": [
    "# Correlation Heatmap \n",
    "\n",
    "sns.heatmap(df.corr(), annot = True, vmin=-1, vmax=1, center= 0)"
   ]
  },
  {
   "cell_type": "code",
   "execution_count": 76,
   "metadata": {},
   "outputs": [
    {
     "data": {
      "text/plain": [
       "F_onewayResult(statistic=17.487160850306793, pvalue=4.225764098203329e-05)"
      ]
     },
     "execution_count": 76,
     "metadata": {},
     "output_type": "execute_result"
    }
   ],
   "source": [
    "# Analysis of Variance (ANOVA)\n",
    "# Statistical comparison of groups\n",
    "# Example : Average price of different vehicle makes.\n",
    "# ANOVA is finding correlation between different groups of a categorical variable.\n",
    "# - F-test score: variation between sample group means divided by variation within sample group\n",
    "# - P-value : confidence degree\n",
    "\n",
    "# Small F imply poor correlation between variable categories and target variable. Large F imply strong correlation.\n",
    "\n",
    "df_anova = df[['city', 'price']]\n",
    "grouped_anova = df_anova.groupby(['city'])\n",
    "anova_results_1 = stats.f_oneway(grouped_anova.get_group(\"İstanbul\")[\"price\"], grouped_anova.get_group(\"Ankara\")[\"price\"])\n",
    "anova_results_1"
   ]
  },
  {
   "cell_type": "code",
   "execution_count": 75,
   "metadata": {},
   "outputs": [
    {
     "data": {
      "text/plain": [
       "F_onewayResult(statistic=0.6092422313640488, pvalue=0.4366769583756617)"
      ]
     },
     "execution_count": 75,
     "metadata": {},
     "output_type": "execute_result"
    }
   ],
   "source": [
    "anova_results_2 = stats.f_oneway(grouped_anova.get_group(\"İstanbul\")[\"price\"], grouped_anova.get_group(\"Niğde\")[\"price\"])\n",
    "anova_results_2"
   ]
  },
  {
   "cell_type": "code",
   "execution_count": 77,
   "metadata": {},
   "outputs": [
    {
     "data": {
      "text/html": [
       "<div>\n",
       "<style scoped>\n",
       "    .dataframe tbody tr th:only-of-type {\n",
       "        vertical-align: middle;\n",
       "    }\n",
       "\n",
       "    .dataframe tbody tr th {\n",
       "        vertical-align: top;\n",
       "    }\n",
       "\n",
       "    .dataframe thead th {\n",
       "        text-align: right;\n",
       "    }\n",
       "</style>\n",
       "<table border=\"1\" class=\"dataframe\">\n",
       "  <thead>\n",
       "    <tr style=\"text-align: right;\">\n",
       "      <th></th>\n",
       "      <th>id</th>\n",
       "      <th>year</th>\n",
       "      <th>km</th>\n",
       "      <th>hp</th>\n",
       "      <th>cc</th>\n",
       "      <th>price</th>\n",
       "    </tr>\n",
       "  </thead>\n",
       "  <tbody>\n",
       "    <tr>\n",
       "      <th>id</th>\n",
       "      <td>1.000000</td>\n",
       "      <td>0.007915</td>\n",
       "      <td>0.002330</td>\n",
       "      <td>0.001022</td>\n",
       "      <td>0.055655</td>\n",
       "      <td>0.033563</td>\n",
       "    </tr>\n",
       "    <tr>\n",
       "      <th>year</th>\n",
       "      <td>0.007915</td>\n",
       "      <td>1.000000</td>\n",
       "      <td>-0.682260</td>\n",
       "      <td>0.288491</td>\n",
       "      <td>-0.315526</td>\n",
       "      <td>0.894153</td>\n",
       "    </tr>\n",
       "    <tr>\n",
       "      <th>km</th>\n",
       "      <td>0.002330</td>\n",
       "      <td>-0.682260</td>\n",
       "      <td>1.000000</td>\n",
       "      <td>-0.308324</td>\n",
       "      <td>0.217204</td>\n",
       "      <td>-0.776143</td>\n",
       "    </tr>\n",
       "    <tr>\n",
       "      <th>hp</th>\n",
       "      <td>0.001022</td>\n",
       "      <td>0.288491</td>\n",
       "      <td>-0.308324</td>\n",
       "      <td>1.000000</td>\n",
       "      <td>0.006696</td>\n",
       "      <td>0.387239</td>\n",
       "    </tr>\n",
       "    <tr>\n",
       "      <th>cc</th>\n",
       "      <td>0.055655</td>\n",
       "      <td>-0.315526</td>\n",
       "      <td>0.217204</td>\n",
       "      <td>0.006696</td>\n",
       "      <td>1.000000</td>\n",
       "      <td>-0.308667</td>\n",
       "    </tr>\n",
       "    <tr>\n",
       "      <th>price</th>\n",
       "      <td>0.033563</td>\n",
       "      <td>0.894153</td>\n",
       "      <td>-0.776143</td>\n",
       "      <td>0.387239</td>\n",
       "      <td>-0.308667</td>\n",
       "      <td>1.000000</td>\n",
       "    </tr>\n",
       "  </tbody>\n",
       "</table>\n",
       "</div>"
      ],
      "text/plain": [
       "             id      year        km        hp        cc     price\n",
       "id     1.000000  0.007915  0.002330  0.001022  0.055655  0.033563\n",
       "year   0.007915  1.000000 -0.682260  0.288491 -0.315526  0.894153\n",
       "km     0.002330 -0.682260  1.000000 -0.308324  0.217204 -0.776143\n",
       "hp     0.001022  0.288491 -0.308324  1.000000  0.006696  0.387239\n",
       "cc     0.055655 -0.315526  0.217204  0.006696  1.000000 -0.308667\n",
       "price  0.033563  0.894153 -0.776143  0.387239 -0.308667  1.000000"
      ]
     },
     "execution_count": 77,
     "metadata": {},
     "output_type": "execute_result"
    }
   ],
   "source": [
    "df.corr()"
   ]
  },
  {
   "cell_type": "code",
   "execution_count": 83,
   "metadata": {},
   "outputs": [
    {
     "data": {
      "text/html": [
       "<div>\n",
       "<style scoped>\n",
       "    .dataframe tbody tr th:only-of-type {\n",
       "        vertical-align: middle;\n",
       "    }\n",
       "\n",
       "    .dataframe tbody tr th {\n",
       "        vertical-align: top;\n",
       "    }\n",
       "\n",
       "    .dataframe thead th {\n",
       "        text-align: right;\n",
       "    }\n",
       "</style>\n",
       "<table border=\"1\" class=\"dataframe\">\n",
       "  <thead>\n",
       "    <tr style=\"text-align: right;\">\n",
       "      <th></th>\n",
       "      <th>hp</th>\n",
       "      <th>km</th>\n",
       "      <th>price</th>\n",
       "    </tr>\n",
       "  </thead>\n",
       "  <tbody>\n",
       "    <tr>\n",
       "      <th>hp</th>\n",
       "      <td>1.000000</td>\n",
       "      <td>-0.308324</td>\n",
       "      <td>0.387239</td>\n",
       "    </tr>\n",
       "    <tr>\n",
       "      <th>km</th>\n",
       "      <td>-0.308324</td>\n",
       "      <td>1.000000</td>\n",
       "      <td>-0.776143</td>\n",
       "    </tr>\n",
       "    <tr>\n",
       "      <th>price</th>\n",
       "      <td>0.387239</td>\n",
       "      <td>-0.776143</td>\n",
       "      <td>1.000000</td>\n",
       "    </tr>\n",
       "  </tbody>\n",
       "</table>\n",
       "</div>"
      ],
      "text/plain": [
       "             hp        km     price\n",
       "hp     1.000000 -0.308324  0.387239\n",
       "km    -0.308324  1.000000 -0.776143\n",
       "price  0.387239 -0.776143  1.000000"
      ]
     },
     "execution_count": 83,
     "metadata": {},
     "output_type": "execute_result"
    }
   ],
   "source": [
    "df[['hp','km','price']].corr()"
   ]
  },
  {
   "cell_type": "code",
   "execution_count": 84,
   "metadata": {},
   "outputs": [
    {
     "data": {
      "text/plain": [
       "<matplotlib.axes._subplots.AxesSubplot at 0x20b9259e3c8>"
      ]
     },
     "execution_count": 84,
     "metadata": {},
     "output_type": "execute_result"
    },
    {
     "data": {
      "image/png": "[encoded data removed]",
      "text/plain": [
       "<Figure size 432x288 with 1 Axes>"
      ]
     },
     "metadata": {
      "needs_background": "light"
     },
     "output_type": "display_data"
    }
   ],
   "source": [
    "sns.boxplot(x='fuel', y='price', data=df)"
   ]
  },
  {
   "cell_type": "code",
   "execution_count": 85,
   "metadata": {},
   "outputs": [
    {
     "data": {
      "text/plain": [
       "<matplotlib.axes._subplots.AxesSubplot at 0x20b94059048>"
      ]
     },
     "execution_count": 85,
     "metadata": {},
     "output_type": "execute_result"
    },
    {
     "data": {
      "image/png": "[encoded data removed]",
      "text/plain": [
       "<Figure size 432x288 with 1 Axes>"
      ]
     },
     "metadata": {
      "needs_background": "light"
     },
     "output_type": "display_data"
    }
   ],
   "source": [
    "# If difference is too much, then good predictor.\n",
    "sns.boxplot(x='transmission', y='price', data=df)"
   ]
  },
  {
   "cell_type": "code",
   "execution_count": 86,
   "metadata": {},
   "outputs": [
    {
     "data": {
      "text/html": [
       "<div>\n",
       "<style scoped>\n",
       "    .dataframe tbody tr th:only-of-type {\n",
       "        vertical-align: middle;\n",
       "    }\n",
       "\n",
       "    .dataframe tbody tr th {\n",
       "        vertical-align: top;\n",
       "    }\n",
       "\n",
       "    .dataframe thead th {\n",
       "        text-align: right;\n",
       "    }\n",
       "</style>\n",
       "<table border=\"1\" class=\"dataframe\">\n",
       "  <thead>\n",
       "    <tr style=\"text-align: right;\">\n",
       "      <th></th>\n",
       "      <th>fuel</th>\n",
       "    </tr>\n",
       "    <tr>\n",
       "      <th>fuel</th>\n",
       "      <th></th>\n",
       "    </tr>\n",
       "  </thead>\n",
       "  <tbody>\n",
       "    <tr>\n",
       "      <th>dizel</th>\n",
       "      <td>564</td>\n",
       "    </tr>\n",
       "    <tr>\n",
       "      <th>benzin &amp; lpg</th>\n",
       "      <td>208</td>\n",
       "    </tr>\n",
       "    <tr>\n",
       "      <th>benzin</th>\n",
       "      <td>55</td>\n",
       "    </tr>\n",
       "  </tbody>\n",
       "</table>\n",
       "</div>"
      ],
      "text/plain": [
       "              fuel\n",
       "fuel              \n",
       "dizel          564\n",
       "benzin & lpg   208\n",
       "benzin          55"
      ]
     },
     "execution_count": 86,
     "metadata": {},
     "output_type": "execute_result"
    }
   ],
   "source": [
    "fuel_counts = df['fuel'].value_counts().to_frame() # change results to frame\n",
    "fuel_counts.rename(columns={'fuel':'value_counts'})\n",
    "fuel_counts.index.name = 'fuel'\n",
    "fuel_counts\n",
    "#Benzin wouldn't be a good predictor because of count"
   ]
  },
  {
   "cell_type": "code",
   "execution_count": 87,
   "metadata": {},
   "outputs": [
    {
     "data": {
      "text/plain": [
       "array(['Niğde', 'İstanbul', 'Ankara', 'Manisa', 'Zonguldak', 'Antalya',\n",
       "       'Denizli', 'Konya', 'Eskişehir', 'Adıyaman', 'İzmir', 'Ağrı',\n",
       "       'Balıkesir', 'Aksaray', 'Elazığ', 'Kahramanmaraş', 'Malatya',\n",
       "       'Sakarya', 'Gaziantep', 'Bursa', 'Diyarbakır', 'Hatay', 'Bitlis',\n",
       "       'Nevşehir', 'Tokat', 'Mersin', 'Samsun', 'Afyonkarahisar', 'Adana',\n",
       "       'Kırşehir', 'Tekirdağ', 'Hakkari', 'Kayseri', 'Osmaniye',\n",
       "       'Giresun', 'Kütahya', 'Rize', 'Mardin', 'Burdur', 'Van', 'Bingöl',\n",
       "       'Isparta', 'Batman', 'Kırıkkale', 'Bolu', 'Trabzon', 'Kocaeli',\n",
       "       'Ordu', 'Şanlıurfa', 'Erzurum', 'Kastamonu', 'Yozgat', 'Düzce',\n",
       "       'Kilis', 'Karabük', 'Siirt', 'Uşak', 'Muğla', 'Sinop', 'Muş',\n",
       "       'Sivas', 'Aydın', 'Bartın', 'Ardahan', 'Karaman', 'Çorum',\n",
       "       'Bilecik', 'Amasya', 'Yalova', 'Iğdır', 'Erzincan', 'Çanakkale'],\n",
       "      dtype=object)"
      ]
     },
     "execution_count": 87,
     "metadata": {},
     "output_type": "execute_result"
    }
   ],
   "source": [
    "df['city'].unique()"
   ]
  },
  {
   "cell_type": "code",
   "execution_count": 90,
   "metadata": {},
   "outputs": [
    {
     "data": {
      "text/html": [
       "<div>\n",
       "<style scoped>\n",
       "    .dataframe tbody tr th:only-of-type {\n",
       "        vertical-align: middle;\n",
       "    }\n",
       "\n",
       "    .dataframe tbody tr th {\n",
       "        vertical-align: top;\n",
       "    }\n",
       "\n",
       "    .dataframe thead th {\n",
       "        text-align: right;\n",
       "    }\n",
       "</style>\n",
       "<table border=\"1\" class=\"dataframe\">\n",
       "  <thead>\n",
       "    <tr style=\"text-align: right;\">\n",
       "      <th></th>\n",
       "      <th>price</th>\n",
       "    </tr>\n",
       "    <tr>\n",
       "      <th>city</th>\n",
       "      <th></th>\n",
       "    </tr>\n",
       "  </thead>\n",
       "  <tbody>\n",
       "    <tr>\n",
       "      <th>Adana</th>\n",
       "      <td>76.842553</td>\n",
       "    </tr>\n",
       "    <tr>\n",
       "      <th>Adıyaman</th>\n",
       "      <td>90.000000</td>\n",
       "    </tr>\n",
       "    <tr>\n",
       "      <th>Afyonkarahisar</th>\n",
       "      <td>65.500000</td>\n",
       "    </tr>\n",
       "    <tr>\n",
       "      <th>Aksaray</th>\n",
       "      <td>77.464706</td>\n",
       "    </tr>\n",
       "    <tr>\n",
       "      <th>Amasya</th>\n",
       "      <td>118.500000</td>\n",
       "    </tr>\n",
       "    <tr>\n",
       "      <th>...</th>\n",
       "      <td>...</td>\n",
       "    </tr>\n",
       "    <tr>\n",
       "      <th>Çanakkale</th>\n",
       "      <td>71.500000</td>\n",
       "    </tr>\n",
       "    <tr>\n",
       "      <th>Çorum</th>\n",
       "      <td>57.312500</td>\n",
       "    </tr>\n",
       "    <tr>\n",
       "      <th>İstanbul</th>\n",
       "      <td>88.575000</td>\n",
       "    </tr>\n",
       "    <tr>\n",
       "      <th>İzmir</th>\n",
       "      <td>85.915278</td>\n",
       "    </tr>\n",
       "    <tr>\n",
       "      <th>Şanlıurfa</th>\n",
       "      <td>84.492857</td>\n",
       "    </tr>\n",
       "  </tbody>\n",
       "</table>\n",
       "<p>72 rows × 1 columns</p>\n",
       "</div>"
      ],
      "text/plain": [
       "                     price\n",
       "city                      \n",
       "Adana            76.842553\n",
       "Adıyaman         90.000000\n",
       "Afyonkarahisar   65.500000\n",
       "Aksaray          77.464706\n",
       "Amasya          118.500000\n",
       "...                    ...\n",
       "Çanakkale        71.500000\n",
       "Çorum            57.312500\n",
       "İstanbul         88.575000\n",
       "İzmir            85.915278\n",
       "Şanlıurfa        84.492857\n",
       "\n",
       "[72 rows x 1 columns]"
      ]
     },
     "execution_count": 90,
     "metadata": {},
     "output_type": "execute_result"
    }
   ],
   "source": [
    "df_group = df[['city','fuel','price']]\n",
    "df_group1 = df_group.groupby(['city'],as_index=True).mean()\n",
    "df_group1"
   ]
  },
  {
   "cell_type": "code",
   "execution_count": 91,
   "metadata": {},
   "outputs": [
    {
     "data": {
      "text/html": [
       "<div>\n",
       "<style scoped>\n",
       "    .dataframe tbody tr th:only-of-type {\n",
       "        vertical-align: middle;\n",
       "    }\n",
       "\n",
       "    .dataframe tbody tr th {\n",
       "        vertical-align: top;\n",
       "    }\n",
       "\n",
       "    .dataframe thead th {\n",
       "        text-align: right;\n",
       "    }\n",
       "</style>\n",
       "<table border=\"1\" class=\"dataframe\">\n",
       "  <thead>\n",
       "    <tr style=\"text-align: right;\">\n",
       "      <th></th>\n",
       "      <th>price</th>\n",
       "    </tr>\n",
       "    <tr>\n",
       "      <th>fuel</th>\n",
       "      <th></th>\n",
       "    </tr>\n",
       "  </thead>\n",
       "  <tbody>\n",
       "    <tr>\n",
       "      <th>benzin</th>\n",
       "      <td>93.811200</td>\n",
       "    </tr>\n",
       "    <tr>\n",
       "      <th>benzin &amp; lpg</th>\n",
       "      <td>59.523558</td>\n",
       "    </tr>\n",
       "    <tr>\n",
       "      <th>dizel</th>\n",
       "      <td>88.648362</td>\n",
       "    </tr>\n",
       "  </tbody>\n",
       "</table>\n",
       "</div>"
      ],
      "text/plain": [
       "                  price\n",
       "fuel                   \n",
       "benzin        93.811200\n",
       "benzin & lpg  59.523558\n",
       "dizel         88.648362"
      ]
     },
     "execution_count": 91,
     "metadata": {},
     "output_type": "execute_result"
    }
   ],
   "source": [
    "df_group2 = df_group.groupby(['fuel'],as_index=True).mean()\n",
    "df_group2"
   ]
  },
  {
   "cell_type": "code",
   "execution_count": null,
   "metadata": {},
   "outputs": [],
   "source": []
  }
 ],
 "metadata": {
  "kernelspec": {
   "display_name": "Python 3",
   "language": "python",
   "name": "python3"
  },
  "language_info": {
   "codemirror_mode": {
    "name": "ipython",
    "version": 3
   },
   "file_extension": ".py",
   "mimetype": "text/x-python",
   "name": "python",
   "nbconvert_exporter": "python",
   "pygments_lexer": "ipython3",
   "version": "3.7.5"
  }
 },
 "nbformat": 4,
 "nbformat_minor": 4
}
