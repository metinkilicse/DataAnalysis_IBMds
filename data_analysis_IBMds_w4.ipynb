{
 "cells": [
  {
   "cell_type": "code",
   "execution_count": 1,
   "metadata": {},
   "outputs": [],
   "source": [
    "import pandas as pd\n",
    "import numpy as np\n",
    "import matplotlib.pyplot as plt\n",
    "import seaborn as sns\n",
    "from scipy import stats\n",
    "\n",
    "df = pd.read_csv('car_details_ford_focus.csv')"
   ]
  },
  {
   "cell_type": "code",
   "execution_count": 2,
   "metadata": {},
   "outputs": [],
   "source": [
    "# Model Development\n",
    "# How can you determine a fair value for a used car?"
   ]
  },
  {
   "cell_type": "code",
   "execution_count": 3,
   "metadata": {},
   "outputs": [],
   "source": [
    "# A model can be thought of as a mathematical equation used to predict a value given one or more other values\n",
    "# Relating one or more independent variables to dependent variables."
   ]
  },
  {
   "cell_type": "code",
   "execution_count": 4,
   "metadata": {},
   "outputs": [],
   "source": [
    "# Simple and Multiple Linear Regression, Model Evaluation using Visualization, Polynomial Regression and Pipelines\n",
    "# R-squared and MSE for In-Sample Evaluation"
   ]
  },
  {
   "cell_type": "code",
   "execution_count": 5,
   "metadata": {},
   "outputs": [],
   "source": [
    "# Linear Regression and Multiple Linear Regression\n",
    "# Simple Linear Regression\n",
    "# - The predictor(independent) variable -x\n",
    "# - The target ( dependent ) variable - y\n",
    "# y = b0 + b1x. -> b0: the intercept, b1: the slope"
   ]
  },
  {
   "cell_type": "code",
   "execution_count": 6,
   "metadata": {},
   "outputs": [],
   "source": [
    "from sklearn.linear_model import LinearRegression\n",
    "lm = LinearRegression()"
   ]
  },
  {
   "cell_type": "code",
   "execution_count": 7,
   "metadata": {},
   "outputs": [
    {
     "data": {
      "text/plain": [
       "LinearRegression(copy_X=True, fit_intercept=True, n_jobs=None, normalize=False)"
      ]
     },
     "execution_count": 7,
     "metadata": {},
     "output_type": "execute_result"
    }
   ],
   "source": [
    "X = df[['year']]\n",
    "Y = df['price']\n",
    "lm.fit(X,Y)"
   ]
  },
  {
   "cell_type": "code",
   "execution_count": 18,
   "metadata": {},
   "outputs": [
    {
     "data": {
      "text/plain": [
       "array([ 69.05930225,  85.92099881,  97.16212985,  52.1976057 ,\n",
       "        35.33590914,  74.67986777, 102.78269537, 119.64439192,\n",
       "       108.40326088,  74.67986777])"
      ]
     },
     "execution_count": 18,
     "metadata": {},
     "output_type": "execute_result"
    }
   ],
   "source": [
    "Yhat = lm.predict(X)\n",
    "Yhat[0:10]"
   ]
  },
  {
   "cell_type": "code",
   "execution_count": 20,
   "metadata": {},
   "outputs": [
    {
     "data": {
      "text/plain": [
       "[61.75, 96.95, 86.9, 52.9, 37.9, 62.0, 83.5, 135.0, 121.75, 71.75]"
      ]
     },
     "execution_count": 20,
     "metadata": {},
     "output_type": "execute_result"
    }
   ],
   "source": [
    "df['price'].head(10).tolist()"
   ]
  },
  {
   "cell_type": "code",
   "execution_count": 11,
   "metadata": {},
   "outputs": [
    {
     "data": {
      "text/plain": [
       "-11222.656825136177"
      ]
     },
     "execution_count": 11,
     "metadata": {},
     "output_type": "execute_result"
    }
   ],
   "source": [
    "lm.intercept_"
   ]
  },
  {
   "cell_type": "code",
   "execution_count": 12,
   "metadata": {},
   "outputs": [
    {
     "data": {
      "text/plain": [
       "array([5.62056552])"
      ]
     },
     "execution_count": 12,
     "metadata": {},
     "output_type": "execute_result"
    }
   ],
   "source": [
    "lm.coef_"
   ]
  },
  {
   "cell_type": "code",
   "execution_count": 21,
   "metadata": {},
   "outputs": [
    {
     "data": {
      "text/plain": [
       "array([ 67.0560831 ,  96.33843821,  99.49867264,  56.27759071,\n",
       "        26.57346007,  62.43583121,  84.99492741, 125.02435017,\n",
       "       114.30390148,  80.06331398])"
      ]
     },
     "execution_count": 21,
     "metadata": {},
     "output_type": "execute_result"
    }
   ],
   "source": [
    "# y = b0 + b1x1 + b2x2 + b3x3 + b4x4\n",
    "X = df[['cc', 'km', 'hp', 'year']]\n",
    "Y = df['price']\n",
    "lm = LinearRegression()\n",
    "lm.fit(X,Y)\n",
    "Yhat = lm.predict(X)\n",
    "Yhat[0:10]"
   ]
  },
  {
   "cell_type": "code",
   "execution_count": 22,
   "metadata": {},
   "outputs": [
    {
     "data": {
      "text/plain": [
       "-8163.130897369166"
      ]
     },
     "execution_count": 22,
     "metadata": {},
     "output_type": "execute_result"
    }
   ],
   "source": [
    "lm.intercept_"
   ]
  },
  {
   "cell_type": "code",
   "execution_count": 23,
   "metadata": {},
   "outputs": [
    {
     "data": {
      "text/plain": [
       "array([-0.01776638, -0.12028541,  0.30109156,  4.10611076])"
      ]
     },
     "execution_count": 23,
     "metadata": {},
     "output_type": "execute_result"
    }
   ],
   "source": [
    "lm.coef_"
   ]
  },
  {
   "cell_type": "code",
   "execution_count": 27,
   "metadata": {},
   "outputs": [
    {
     "data": {
      "text/plain": [
       "0.86263040425544"
      ]
     },
     "execution_count": 27,
     "metadata": {},
     "output_type": "execute_result"
    }
   ],
   "source": [
    "lm.score(X, Y)"
   ]
  },
  {
   "cell_type": "code",
   "execution_count": 28,
   "metadata": {},
   "outputs": [],
   "source": [
    "# Model Evaluation using Visualization\n",
    "\n",
    "# Why use regression plot ?\n",
    "# It gives us a good estimate of\n",
    "# - The relationship between two variables\n",
    "# - The strength of the correlation\n",
    "# - The directionof the relationship (positive or negative)"
   ]
  },
  {
   "cell_type": "code",
   "execution_count": 29,
   "metadata": {},
   "outputs": [
    {
     "data": {
      "text/plain": [
       "(0, 212.19237064002036)"
      ]
     },
     "execution_count": 29,
     "metadata": {},
     "output_type": "execute_result"
    },
    {
     "data": {
      "image/png": "[encoded data removed]",
      "text/plain": [
       "<Figure size 432x288 with 1 Axes>"
      ]
     },
     "metadata": {
      "needs_background": "light"
     },
     "output_type": "display_data"
    }
   ],
   "source": [
    "# Shows us combination of Scatter plot and fitted linear regression line\n",
    "sns.regplot(x=\"km\", y=\"price\", data=df)\n",
    "plt.ylim(0,)"
   ]
  },
  {
   "cell_type": "code",
   "execution_count": 30,
   "metadata": {},
   "outputs": [
    {
     "data": {
      "text/plain": [
       "<matplotlib.axes._subplots.AxesSubplot at 0x1a80aff6848>"
      ]
     },
     "execution_count": 30,
     "metadata": {},
     "output_type": "execute_result"
    },
    {
     "data": {
      "image/png": "[encoded data removed]",
      "text/plain": [
       "<Figure size 432x288 with 1 Axes>"
      ]
     },
     "metadata": {
      "needs_background": "light"
     },
     "output_type": "display_data"
    }
   ],
   "source": [
    "# Residual plot\n",
    "# Randomly spread out around x-axis then a linear model is appropriate\n",
    "sns.residplot(df['km'], df['price'])"
   ]
  },
  {
   "cell_type": "code",
   "execution_count": 32,
   "metadata": {},
   "outputs": [],
   "source": [
    "# Distribution Plots\n",
    "# Good for with multiple variables\n",
    "# Compare :\n",
    "# - The fitted values that result from the model\n",
    "# - The actual values"
   ]
  },
  {
   "cell_type": "code",
   "execution_count": 33,
   "metadata": {},
   "outputs": [
    {
     "data": {
      "text/plain": [
       "<matplotlib.axes._subplots.AxesSubplot at 0x1a80b0ab788>"
      ]
     },
     "execution_count": 33,
     "metadata": {},
     "output_type": "execute_result"
    },
    {
     "data": {
      "image/png": "[encoded data removed]",
      "text/plain": [
       "<Figure size 432x288 with 1 Axes>"
      ]
     },
     "metadata": {
      "needs_background": "light"
     },
     "output_type": "display_data"
    }
   ],
   "source": [
    "ax1 = sns.distplot(df['price'], hist=False, color=\"r\", label=\"Actual Value\")\n",
    "sns.distplot(Yhat, hist=False, color=\"b\", label=\"Fitted Values\", ax=ax1)\n",
    "# Seems we don't have enough examples with high price."
   ]
  },
  {
   "cell_type": "code",
   "execution_count": 34,
   "metadata": {},
   "outputs": [],
   "source": [
    "# Polynomial Regression and Pipelines\n",
    "# Linear model can be a bad fit model.\n",
    "# It's special case of the general linear regression model\n",
    "# Useful for describing curvilinear relationships\n",
    "# - Curvilinear relationships : By squaring or setting highe-order terms of the predictor variables\n",
    "\n",
    "# Model can be quadratic:\n",
    "# - y = b0 + b1x1 + b2(x1)^2\n",
    "# can be cubic or higher order polynomial regression too"
   ]
  },
  {
   "cell_type": "code",
   "execution_count": 38,
   "metadata": {},
   "outputs": [
    {
     "data": {
      "text/plain": [
       "poly1d([ 7.76535996e-03, -4.64723737e+01,  9.27061046e+04, -6.16455575e+07])"
      ]
     },
     "execution_count": 38,
     "metadata": {},
     "output_type": "execute_result"
    }
   ],
   "source": [
    "f = np.polyfit(df['year'], df['price'], 3)\n",
    "p = np.poly1d(f)\n",
    "p"
   ]
  },
  {
   "cell_type": "code",
   "execution_count": 41,
   "metadata": {},
   "outputs": [
    {
     "data": {
      "text/plain": [
       "array([[1.000000e+00, 1.150000e+02, 2.100000e+02, ..., 4.410000e+04,\n",
       "        3.351600e+05, 2.547216e+06],\n",
       "       [1.000000e+00, 1.250000e+02, 9.400000e+01, ..., 8.836000e+03,\n",
       "        1.500240e+05, 2.547216e+06],\n",
       "       [1.000000e+00, 1.250000e+02, 1.360000e+02, ..., 1.849600e+04,\n",
       "        2.170560e+05, 2.547216e+06],\n",
       "       ...,\n",
       "       [1.000000e+00, 9.500000e+01, 5.700000e+01, ..., 3.249000e+03,\n",
       "        8.892000e+04, 2.433600e+06],\n",
       "       [1.000000e+00, 1.130000e+02, 1.360000e+02, ..., 1.849600e+04,\n",
       "        1.972000e+05, 2.102500e+06],\n",
       "       [1.000000e+00, 9.500000e+01, 8.700000e+01, ..., 7.569000e+03,\n",
       "        1.357200e+05, 2.433600e+06]])"
      ]
     },
     "execution_count": 41,
     "metadata": {},
     "output_type": "execute_result"
    }
   ],
   "source": [
    "# for multivariable, we use scikitlearn\n",
    "from sklearn.preprocessing import PolynomialFeatures\n",
    "pr = PolynomialFeatures(degree=2)\n",
    "x_polly = pr.fit_transform(df[['hp', 'km', 'cc']])\n",
    "x_polly"
   ]
  },
  {
   "cell_type": "code",
   "execution_count": 42,
   "metadata": {},
   "outputs": [
    {
     "data": {
      "text/plain": [
       "(array([[ 0.63715938,  0.78140619,  0.46909272],\n",
       "        [ 1.51347871, -0.77767851,  0.46909272],\n",
       "        [ 1.51347871, -0.21318232,  0.46909272],\n",
       "        ...,\n",
       "        [-1.11547927, -1.27497276, -0.03416224],\n",
       "        [ 0.46189552, -0.21318232, -1.57188573],\n",
       "        [-1.11547927, -0.8717612 , -0.03416224]]),)"
      ]
     },
     "execution_count": 42,
     "metadata": {},
     "output_type": "execute_result"
    }
   ],
   "source": [
    "# Pre-Processing\n",
    "# We can normalize the each feature simultaneously\n",
    "from sklearn.preprocessing import StandardScaler\n",
    "SCALE = StandardScaler()\n",
    "SCALE.fit(df[['hp', 'km', 'cc']])\n",
    "x_scale = SCALE.transform(df[['hp', 'km', 'cc']]),\n",
    "x_scale"
   ]
  },
  {
   "cell_type": "code",
   "execution_count": 43,
   "metadata": {},
   "outputs": [],
   "source": [
    "# Pipelines\n",
    "# There are many steps to getting a prediction :\n",
    "# - Normalization, Polynomial transform, Linear Regression\n",
    "# Simplify using a Pipeline\n",
    "\n",
    "from sklearn.pipeline import Pipeline\n",
    "Input = [('scale', StandardScaler()), ('polynomial', PolynomialFeatures(degree=2)), ('mode', LinearRegression())]\n",
    "pipe = Pipeline(Input)"
   ]
  },
  {
   "cell_type": "code",
   "execution_count": 46,
   "metadata": {},
   "outputs": [
    {
     "data": {
      "text/plain": [
       "array([ 59.31061765,  82.31713821,  92.55678101,  49.95758371,\n",
       "        36.6870379 ,  59.49249779,  90.10016706, 140.22179607,\n",
       "       120.12332482,  70.53586393])"
      ]
     },
     "execution_count": 46,
     "metadata": {},
     "output_type": "execute_result"
    }
   ],
   "source": [
    "pipe.fit(df[['hp','cc','km','year']], df['price'])\n",
    "Yhat = pipe.predict(df[['hp','cc','km','year']])\n",
    "Yhat[0:10]"
   ]
  },
  {
   "cell_type": "code",
   "execution_count": 47,
   "metadata": {},
   "outputs": [
    {
     "data": {
      "text/plain": [
       "0.9140388804066443"
      ]
     },
     "execution_count": 47,
     "metadata": {},
     "output_type": "execute_result"
    }
   ],
   "source": [
    "pipe.score(df[['hp','cc','km','year']], df['price'])"
   ]
  },
  {
   "cell_type": "code",
   "execution_count": 48,
   "metadata": {},
   "outputs": [],
   "source": [
    "# Measures for In-Sample Evaluation\n",
    "# A way to numerically determine how good the model fits on dataset.\n",
    "# Two important measures to determine the fit of model :\n",
    "# - Mean Squared Error (MSE)\n",
    "# - R-squared(R^2)"
   ]
  },
  {
   "cell_type": "code",
   "execution_count": 49,
   "metadata": {},
   "outputs": [
    {
     "data": {
      "text/plain": [
       "83.25927777682598"
      ]
     },
     "execution_count": 49,
     "metadata": {},
     "output_type": "execute_result"
    }
   ],
   "source": [
    "from sklearn.metrics import mean_squared_error\n",
    "mean_squared_error(df['price'], Yhat)"
   ]
  },
  {
   "cell_type": "code",
   "execution_count": 50,
   "metadata": {},
   "outputs": [],
   "source": [
    "# R-squared also called as Coefficient of Determination\n",
    "# Is a measure to determine how close the data is to the fitted regression line\n",
    "# R^2: the percentage of variation of the target variable(Y) that is explained by the linear model.\n",
    "\n",
    "# Think about as comparing a regression model to a simple model i.e the mean of the data points"
   ]
  },
  {
   "cell_type": "code",
   "execution_count": 52,
   "metadata": {},
   "outputs": [],
   "source": [
    "# lm.score or pipe.score are R-squared score"
   ]
  },
  {
   "cell_type": "code",
   "execution_count": 53,
   "metadata": {},
   "outputs": [],
   "source": [
    "# Prediction and Decision Making\n",
    "# - we look at combination of :\n",
    "# -- Do the predicted values make sense\n",
    "# -- Visualization\n",
    "# -- Numerical measures for evaluation\n",
    "# -- Comparing models"
   ]
  },
  {
   "cell_type": "code",
   "execution_count": 57,
   "metadata": {},
   "outputs": [
    {
     "data": {
      "text/plain": [
       "array([85.92099881])"
      ]
     },
     "execution_count": 57,
     "metadata": {},
     "output_type": "execute_result"
    }
   ],
   "source": [
    "X = df[['year']]\n",
    "Y = df['price']\n",
    "lm = LinearRegression()\n",
    "lm.fit(X,Y)\n",
    "lm.predict([[2012]])"
   ]
  },
  {
   "cell_type": "code",
   "execution_count": 65,
   "metadata": {},
   "outputs": [
    {
     "data": {
      "text/plain": [
       "array([89.7063339])"
      ]
     },
     "execution_count": 65,
     "metadata": {},
     "output_type": "execute_result"
    }
   ],
   "source": [
    "X = df[['cc', 'km', 'hp', 'year']]\n",
    "Y = df['price']\n",
    "lm = LinearRegression()\n",
    "lm.fit(X,Y)\n",
    "lm.predict([[1596, 115, 125, 2011]])"
   ]
  },
  {
   "cell_type": "code",
   "execution_count": 68,
   "metadata": {},
   "outputs": [],
   "source": [
    "new_input = np.arange(1,101,1).reshape(-1,1)"
   ]
  },
  {
   "cell_type": "code",
   "execution_count": 69,
   "metadata": {},
   "outputs": [],
   "source": [
    "# Comparing MLR and SLR\n",
    "# - Is a lower MSE always implying a better fit ? -> Not necessarily.\n",
    "# - MSE for an MLR model will be smallar than the MSE for an SLR model, since the errors of the data will decrease\n",
    "#    when more variables are included in the model.\n",
    "# - Polynomial regression will also have a smaller MSE then regular regression\n",
    "# - A similar inverse relationship holds for R^2"
   ]
  },
  {
   "cell_type": "code",
   "execution_count": null,
   "metadata": {},
   "outputs": [],
   "source": []
  }
 ],
 "metadata": {
  "kernelspec": {
   "display_name": "Python 3",
   "language": "python",
   "name": "python3"
  },
  "language_info": {
   "codemirror_mode": {
    "name": "ipython",
    "version": 3
   },
   "file_extension": ".py",
   "mimetype": "text/x-python",
   "name": "python",
   "nbconvert_exporter": "python",
   "pygments_lexer": "ipython3",
   "version": "3.7.5"
  }
 },
 "nbformat": 4,
 "nbformat_minor": 4
}
